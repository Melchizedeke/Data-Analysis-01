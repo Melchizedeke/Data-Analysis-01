{
 "cells": [
  {
   "cell_type": "code",
   "execution_count": 1,
   "metadata": {},
   "outputs": [],
   "source": [
    "# Essential imports\n",
    "import numpy as np\n",
    "import pandas as pd\n",
    "import matplotlib.pyplot as plt\n",
    "import seaborn as sns\n",
    "%matplotlib inline"
   ]
  },
  {
   "cell_type": "code",
   "execution_count": 2,
   "metadata": {},
   "outputs": [],
   "source": [
    "#importing the dataset\n",
    "data = pd.read_csv(\"Production Data Cleaned.csv\")"
   ]
  },
  {
   "cell_type": "code",
   "execution_count": 3,
   "metadata": {},
   "outputs": [
    {
     "data": {
      "text/html": [
       "<div><div id=0b23870f-940f-4c31-8eee-78fbe74c8e62 style=\"display:none; background-color:#9D6CFF; color:white; width:200px; height:30px; padding-left:5px; border-radius:4px; flex-direction:row; justify-content:space-around; align-items:center;\" onmouseover=\"this.style.backgroundColor='#BA9BF8'\" onmouseout=\"this.style.backgroundColor='#9D6CFF'\" onclick=\"window.commands?.execute('create-mitosheet-from-dataframe-output');\">See Full Dataframe in Mito</div> <script> if (window.commands?.hasCommand('create-mitosheet-from-dataframe-output')) document.getElementById('0b23870f-940f-4c31-8eee-78fbe74c8e62').style.display = 'flex' </script> <table border=\"1\" class=\"dataframe\">\n",
       "  <thead>\n",
       "    <tr style=\"text-align: right;\">\n",
       "      <th></th>\n",
       "      <th>DATE</th>\n",
       "      <th>NUMBER OF DRUM(QTY)</th>\n",
       "      <th>RATE</th>\n",
       "      <th>AMOUNT</th>\n",
       "      <th>EXPENSES ANALYSIS</th>\n",
       "      <th>PRODUCTION COST</th>\n",
       "      <th>RETURNS</th>\n",
       "    </tr>\n",
       "  </thead>\n",
       "  <tbody>\n",
       "    <tr>\n",
       "      <th>0</th>\n",
       "      <td>02/01/2023</td>\n",
       "      <td>6 DRUMS</td>\n",
       "      <td>20000</td>\n",
       "      <td>120000</td>\n",
       "      <td>LABOUR PAYMENT FOR PRODUCTION</td>\n",
       "      <td>67450.0</td>\n",
       "      <td>52550</td>\n",
       "    </tr>\n",
       "    <tr>\n",
       "      <th>1</th>\n",
       "      <td>02/01/2023</td>\n",
       "      <td>1 DRUM MCFDS</td>\n",
       "      <td>10000</td>\n",
       "      <td>10000</td>\n",
       "      <td>NaN</td>\n",
       "      <td>NaN</td>\n",
       "      <td>10000</td>\n",
       "    </tr>\n",
       "    <tr>\n",
       "      <th>2</th>\n",
       "      <td>01/03/2023</td>\n",
       "      <td>6 DRUMS</td>\n",
       "      <td>23000</td>\n",
       "      <td>138000</td>\n",
       "      <td>LABOUR PAYMENT FOR PRODUCTION</td>\n",
       "      <td>51200.0</td>\n",
       "      <td>86800</td>\n",
       "    </tr>\n",
       "    <tr>\n",
       "      <th>3</th>\n",
       "      <td>02/03/2023</td>\n",
       "      <td>6 DRUMS</td>\n",
       "      <td>20000</td>\n",
       "      <td>120000</td>\n",
       "      <td>LABOUR PAYMENT FOR PRODUCTION</td>\n",
       "      <td>63450.0</td>\n",
       "      <td>56550</td>\n",
       "    </tr>\n",
       "    <tr>\n",
       "      <th>4</th>\n",
       "      <td>08/03/2023</td>\n",
       "      <td>5 GALLONS</td>\n",
       "      <td>19000</td>\n",
       "      <td>95000</td>\n",
       "      <td>LABOUR PAYMENT FOR PRODUCTION</td>\n",
       "      <td>64140.0</td>\n",
       "      <td>30860</td>\n",
       "    </tr>\n",
       "  </tbody>\n",
       "</table></div>"
      ],
      "text/plain": [
       "         DATE NUMBER OF DRUM(QTY)   RATE  AMOUNT  \\\n",
       "0  02/01/2023             6 DRUMS  20000  120000   \n",
       "1  02/01/2023        1 DRUM MCFDS  10000   10000   \n",
       "2  01/03/2023             6 DRUMS  23000  138000   \n",
       "3  02/03/2023             6 DRUMS  20000  120000   \n",
       "4  08/03/2023           5 GALLONS  19000   95000   \n",
       "\n",
       "                 EXPENSES ANALYSIS  PRODUCTION COST RETURNS  \n",
       "0   LABOUR PAYMENT FOR PRODUCTION           67450.0   52550  \n",
       "1                              NaN              NaN   10000  \n",
       "2   LABOUR PAYMENT FOR PRODUCTION           51200.0   86800  \n",
       "3   LABOUR PAYMENT FOR PRODUCTION           63450.0   56550  \n",
       "4   LABOUR PAYMENT FOR PRODUCTION           64140.0   30860  "
      ]
     },
     "execution_count": 3,
     "metadata": {},
     "output_type": "execute_result"
    }
   ],
   "source": [
    "# Previewing the first five rows of the dataset\n",
    "data.head()"
   ]
  },
  {
   "cell_type": "code",
   "execution_count": 4,
   "metadata": {},
   "outputs": [
    {
     "data": {
      "text/html": [
       "<div><div id=2bec5478-9627-4b74-a04b-c4301e16f4c2 style=\"display:none; background-color:#9D6CFF; color:white; width:200px; height:30px; padding-left:5px; border-radius:4px; flex-direction:row; justify-content:space-around; align-items:center;\" onmouseover=\"this.style.backgroundColor='#BA9BF8'\" onmouseout=\"this.style.backgroundColor='#9D6CFF'\" onclick=\"window.commands?.execute('create-mitosheet-from-dataframe-output');\">See Full Dataframe in Mito</div> <script> if (window.commands?.hasCommand('create-mitosheet-from-dataframe-output')) document.getElementById('2bec5478-9627-4b74-a04b-c4301e16f4c2').style.display = 'flex' </script> <table border=\"1\" class=\"dataframe\">\n",
       "  <thead>\n",
       "    <tr style=\"text-align: right;\">\n",
       "      <th></th>\n",
       "      <th>DATE</th>\n",
       "      <th>NUMBER OF DRUM(QTY)</th>\n",
       "      <th>RATE</th>\n",
       "      <th>AMOUNT</th>\n",
       "      <th>EXPENSES ANALYSIS</th>\n",
       "      <th>PRODUCTION COST</th>\n",
       "      <th>RETURNS</th>\n",
       "    </tr>\n",
       "  </thead>\n",
       "  <tbody>\n",
       "    <tr>\n",
       "      <th>42</th>\n",
       "      <td>29/03/2023</td>\n",
       "      <td>7 GALLONS</td>\n",
       "      <td>17000</td>\n",
       "      <td>119000</td>\n",
       "      <td>LABOUR PAYMENT FOR PRODUCTION</td>\n",
       "      <td>64800.0</td>\n",
       "      <td>54200</td>\n",
       "    </tr>\n",
       "    <tr>\n",
       "      <th>43</th>\n",
       "      <td>29/06/2023</td>\n",
       "      <td>7 GALLONS</td>\n",
       "      <td>16000</td>\n",
       "      <td>112000</td>\n",
       "      <td>LABOUR PAYMENT FOR PRODUCTION</td>\n",
       "      <td>111000.0</td>\n",
       "      <td>1000</td>\n",
       "    </tr>\n",
       "    <tr>\n",
       "      <th>44</th>\n",
       "      <td>30/03/2023</td>\n",
       "      <td>6 GALLONS</td>\n",
       "      <td>17000</td>\n",
       "      <td>102000</td>\n",
       "      <td>LABOUR PAYMENT FOR PRODUCTION</td>\n",
       "      <td>48550.0</td>\n",
       "      <td>53450</td>\n",
       "    </tr>\n",
       "    <tr>\n",
       "      <th>45</th>\n",
       "      <td>30/05/2023</td>\n",
       "      <td>5 GALLONS</td>\n",
       "      <td>17000</td>\n",
       "      <td>85000</td>\n",
       "      <td>LABOUR PAYMENT FOR PRODUCTION</td>\n",
       "      <td>59900.0</td>\n",
       "      <td>25100</td>\n",
       "    </tr>\n",
       "    <tr>\n",
       "      <th>46</th>\n",
       "      <td>30/08/2023</td>\n",
       "      <td>6 GALLONS</td>\n",
       "      <td>20000</td>\n",
       "      <td>120000</td>\n",
       "      <td>LABOUR PAYMENT FOR PRODUCTION</td>\n",
       "      <td>72900.0</td>\n",
       "      <td>47100</td>\n",
       "    </tr>\n",
       "  </tbody>\n",
       "</table></div>"
      ],
      "text/plain": [
       "          DATE NUMBER OF DRUM(QTY)   RATE  AMOUNT  \\\n",
       "42  29/03/2023           7 GALLONS  17000  119000   \n",
       "43  29/06/2023           7 GALLONS  16000  112000   \n",
       "44  30/03/2023           6 GALLONS  17000  102000   \n",
       "45  30/05/2023           5 GALLONS  17000   85000   \n",
       "46  30/08/2023           6 GALLONS  20000  120000   \n",
       "\n",
       "                  EXPENSES ANALYSIS  PRODUCTION COST RETURNS  \n",
       "42   LABOUR PAYMENT FOR PRODUCTION           64800.0   54200  \n",
       "43   LABOUR PAYMENT FOR PRODUCTION          111000.0    1000  \n",
       "44   LABOUR PAYMENT FOR PRODUCTION           48550.0   53450  \n",
       "45   LABOUR PAYMENT FOR PRODUCTION           59900.0   25100  \n",
       "46   LABOUR PAYMENT FOR PRODUCTION           72900.0   47100  "
      ]
     },
     "execution_count": 4,
     "metadata": {},
     "output_type": "execute_result"
    }
   ],
   "source": [
    "# Previewing the last five rows of the dataset\n",
    "data.tail()"
   ]
  },
  {
   "cell_type": "code",
   "execution_count": null,
   "metadata": {},
   "outputs": [],
   "source": []
  }
 ],
 "metadata": {
  "kernelspec": {
   "display_name": "base",
   "language": "python",
   "name": "python3"
  },
  "language_info": {
   "codemirror_mode": {
    "name": "ipython",
    "version": 3
   },
   "file_extension": ".py",
   "mimetype": "text/x-python",
   "name": "python",
   "nbconvert_exporter": "python",
   "pygments_lexer": "ipython3",
   "version": "3.8.8"
  },
  "orig_nbformat": 4,
  "vscode": {
   "interpreter": {
    "hash": "6ba0883ef75f55eb59f522291f23a06941ace09d33bfcca46f462b483956d544"
   }
  }
 },
 "nbformat": 4,
 "nbformat_minor": 2
}
