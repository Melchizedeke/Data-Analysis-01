{
 "cells": [
  {
   "cell_type": "code",
   "execution_count": 1,
   "metadata": {},
   "outputs": [],
   "source": [
    "# Essential imports\n",
    "import numpy as np\n",
    "import pandas as pd\n",
    "import matplotlib.pyplot as plt\n",
    "import seaborn as sns\n",
    "%matplotlib inline"
   ]
  },
  {
   "cell_type": "code",
   "execution_count": 2,
   "metadata": {},
   "outputs": [],
   "source": [
    "#importing the dataset\n",
    "data = pd.read_csv(\"Production Data Cleaned.csv\")"
   ]
  },
  {
   "cell_type": "code",
   "execution_count": 3,
   "metadata": {},
   "outputs": [
    {
     "data": {
      "text/html": [
       "<div><div id=48d1b4cf-975a-4229-bd5c-b7353683c730 style=\"display:none; background-color:#9D6CFF; color:white; width:200px; height:30px; padding-left:5px; border-radius:4px; flex-direction:row; justify-content:space-around; align-items:center;\" onmouseover=\"this.style.backgroundColor='#BA9BF8'\" onmouseout=\"this.style.backgroundColor='#9D6CFF'\" onclick=\"window.commands?.execute('create-mitosheet-from-dataframe-output');\">See Full Dataframe in Mito</div> <script> if (window.commands?.hasCommand('create-mitosheet-from-dataframe-output')) document.getElementById('48d1b4cf-975a-4229-bd5c-b7353683c730').style.display = 'flex' </script> <table border=\"1\" class=\"dataframe\">\n",
       "  <thead>\n",
       "    <tr style=\"text-align: right;\">\n",
       "      <th></th>\n",
       "      <th>DATE</th>\n",
       "      <th>NUMBER OF DRUM(QTY)</th>\n",
       "      <th>RATE</th>\n",
       "      <th>AMOUNT</th>\n",
       "      <th>EXPENSES ANALYSIS</th>\n",
       "      <th>PRODUCTION COST</th>\n",
       "      <th>RETURNS</th>\n",
       "    </tr>\n",
       "  </thead>\n",
       "  <tbody>\n",
       "    <tr>\n",
       "      <th>0</th>\n",
       "      <td>02/01/2023</td>\n",
       "      <td>6 DRUMS</td>\n",
       "      <td>20000</td>\n",
       "      <td>120000</td>\n",
       "      <td>LABOUR PAYMENT FOR PRODUCTION</td>\n",
       "      <td>67450.0</td>\n",
       "      <td>52550.0</td>\n",
       "    </tr>\n",
       "    <tr>\n",
       "      <th>1</th>\n",
       "      <td>02/01/2023</td>\n",
       "      <td>1 DRUM MCFDS</td>\n",
       "      <td>10000</td>\n",
       "      <td>10000</td>\n",
       "      <td>NaN</td>\n",
       "      <td>NaN</td>\n",
       "      <td>10000.0</td>\n",
       "    </tr>\n",
       "    <tr>\n",
       "      <th>2</th>\n",
       "      <td>01/03/2023</td>\n",
       "      <td>6 DRUMS</td>\n",
       "      <td>23000</td>\n",
       "      <td>138000</td>\n",
       "      <td>LABOUR PAYMENT FOR PRODUCTION</td>\n",
       "      <td>51200.0</td>\n",
       "      <td>86800.0</td>\n",
       "    </tr>\n",
       "    <tr>\n",
       "      <th>3</th>\n",
       "      <td>02/03/2023</td>\n",
       "      <td>6 DRUMS</td>\n",
       "      <td>20000</td>\n",
       "      <td>120000</td>\n",
       "      <td>LABOUR PAYMENT FOR PRODUCTION</td>\n",
       "      <td>63450.0</td>\n",
       "      <td>56550.0</td>\n",
       "    </tr>\n",
       "    <tr>\n",
       "      <th>4</th>\n",
       "      <td>08/03/2023</td>\n",
       "      <td>5 GALLONS</td>\n",
       "      <td>19000</td>\n",
       "      <td>95000</td>\n",
       "      <td>LABOUR PAYMENT FOR PRODUCTION</td>\n",
       "      <td>64140.0</td>\n",
       "      <td>30860.0</td>\n",
       "    </tr>\n",
       "  </tbody>\n",
       "</table></div>"
      ],
      "text/plain": [
       "         DATE NUMBER OF DRUM(QTY)   RATE  AMOUNT  \\\n",
       "0  02/01/2023             6 DRUMS  20000  120000   \n",
       "1  02/01/2023        1 DRUM MCFDS  10000   10000   \n",
       "2  01/03/2023             6 DRUMS  23000  138000   \n",
       "3  02/03/2023             6 DRUMS  20000  120000   \n",
       "4  08/03/2023           5 GALLONS  19000   95000   \n",
       "\n",
       "                 EXPENSES ANALYSIS  PRODUCTION COST  RETURNS  \n",
       "0   LABOUR PAYMENT FOR PRODUCTION           67450.0  52550.0  \n",
       "1                              NaN              NaN  10000.0  \n",
       "2   LABOUR PAYMENT FOR PRODUCTION           51200.0  86800.0  \n",
       "3   LABOUR PAYMENT FOR PRODUCTION           63450.0  56550.0  \n",
       "4   LABOUR PAYMENT FOR PRODUCTION           64140.0  30860.0  "
      ]
     },
     "execution_count": 3,
     "metadata": {},
     "output_type": "execute_result"
    }
   ],
   "source": [
    "# Previewing the first five rows of the dataset\n",
    "data.head()"
   ]
  },
  {
   "cell_type": "code",
   "execution_count": 4,
   "metadata": {},
   "outputs": [
    {
     "data": {
      "text/html": [
       "<div><div id=bd39e5ce-ea55-4143-9b34-ee30de0eed0a style=\"display:none; background-color:#9D6CFF; color:white; width:200px; height:30px; padding-left:5px; border-radius:4px; flex-direction:row; justify-content:space-around; align-items:center;\" onmouseover=\"this.style.backgroundColor='#BA9BF8'\" onmouseout=\"this.style.backgroundColor='#9D6CFF'\" onclick=\"window.commands?.execute('create-mitosheet-from-dataframe-output');\">See Full Dataframe in Mito</div> <script> if (window.commands?.hasCommand('create-mitosheet-from-dataframe-output')) document.getElementById('bd39e5ce-ea55-4143-9b34-ee30de0eed0a').style.display = 'flex' </script> <table border=\"1\" class=\"dataframe\">\n",
       "  <thead>\n",
       "    <tr style=\"text-align: right;\">\n",
       "      <th></th>\n",
       "      <th>DATE</th>\n",
       "      <th>NUMBER OF DRUM(QTY)</th>\n",
       "      <th>RATE</th>\n",
       "      <th>AMOUNT</th>\n",
       "      <th>EXPENSES ANALYSIS</th>\n",
       "      <th>PRODUCTION COST</th>\n",
       "      <th>RETURNS</th>\n",
       "    </tr>\n",
       "  </thead>\n",
       "  <tbody>\n",
       "    <tr>\n",
       "      <th>42</th>\n",
       "      <td>29/03/2023</td>\n",
       "      <td>7 GALLONS</td>\n",
       "      <td>17000</td>\n",
       "      <td>119000</td>\n",
       "      <td>LABOUR PAYMENT FOR PRODUCTION</td>\n",
       "      <td>64800.0</td>\n",
       "      <td>54200.0</td>\n",
       "    </tr>\n",
       "    <tr>\n",
       "      <th>43</th>\n",
       "      <td>29/06/2023</td>\n",
       "      <td>7 GALLONS</td>\n",
       "      <td>16000</td>\n",
       "      <td>112000</td>\n",
       "      <td>LABOUR PAYMENT FOR PRODUCTION</td>\n",
       "      <td>111000.0</td>\n",
       "      <td>1000.0</td>\n",
       "    </tr>\n",
       "    <tr>\n",
       "      <th>44</th>\n",
       "      <td>30/03/2023</td>\n",
       "      <td>6 GALLONS</td>\n",
       "      <td>17000</td>\n",
       "      <td>102000</td>\n",
       "      <td>LABOUR PAYMENT FOR PRODUCTION</td>\n",
       "      <td>48550.0</td>\n",
       "      <td>53450.0</td>\n",
       "    </tr>\n",
       "    <tr>\n",
       "      <th>45</th>\n",
       "      <td>30/05/2023</td>\n",
       "      <td>5 GALLONS</td>\n",
       "      <td>17000</td>\n",
       "      <td>85000</td>\n",
       "      <td>LABOUR PAYMENT FOR PRODUCTION</td>\n",
       "      <td>59900.0</td>\n",
       "      <td>25100.0</td>\n",
       "    </tr>\n",
       "    <tr>\n",
       "      <th>46</th>\n",
       "      <td>30/08/2023</td>\n",
       "      <td>6 GALLONS</td>\n",
       "      <td>20000</td>\n",
       "      <td>120000</td>\n",
       "      <td>LABOUR PAYMENT FOR PRODUCTION</td>\n",
       "      <td>72900.0</td>\n",
       "      <td>47100.0</td>\n",
       "    </tr>\n",
       "  </tbody>\n",
       "</table></div>"
      ],
      "text/plain": [
       "          DATE NUMBER OF DRUM(QTY)   RATE  AMOUNT  \\\n",
       "42  29/03/2023           7 GALLONS  17000  119000   \n",
       "43  29/06/2023           7 GALLONS  16000  112000   \n",
       "44  30/03/2023           6 GALLONS  17000  102000   \n",
       "45  30/05/2023           5 GALLONS  17000   85000   \n",
       "46  30/08/2023           6 GALLONS  20000  120000   \n",
       "\n",
       "                  EXPENSES ANALYSIS  PRODUCTION COST  RETURNS  \n",
       "42   LABOUR PAYMENT FOR PRODUCTION           64800.0  54200.0  \n",
       "43   LABOUR PAYMENT FOR PRODUCTION          111000.0   1000.0  \n",
       "44   LABOUR PAYMENT FOR PRODUCTION           48550.0  53450.0  \n",
       "45   LABOUR PAYMENT FOR PRODUCTION           59900.0  25100.0  \n",
       "46   LABOUR PAYMENT FOR PRODUCTION           72900.0  47100.0  "
      ]
     },
     "execution_count": 4,
     "metadata": {},
     "output_type": "execute_result"
    }
   ],
   "source": [
    "# Previewing the last five rows of the dataset\n",
    "data.tail()"
   ]
  },
  {
   "cell_type": "code",
   "execution_count": 5,
   "metadata": {},
   "outputs": [
    {
     "name": "stdout",
     "output_type": "stream",
     "text": [
      "<class 'pandas.core.frame.DataFrame'>\n",
      "RangeIndex: 47 entries, 0 to 46\n",
      "Data columns (total 7 columns):\n",
      " #   Column               Non-Null Count  Dtype  \n",
      "---  ------               --------------  -----  \n",
      " 0   DATE                 47 non-null     object \n",
      " 1   NUMBER OF DRUM(QTY)  47 non-null     object \n",
      " 2   RATE                 47 non-null     int64  \n",
      " 3   AMOUNT               47 non-null     int64  \n",
      " 4   EXPENSES ANALYSIS    44 non-null     object \n",
      " 5   PRODUCTION COST      44 non-null     float64\n",
      " 6   RETURNS              46 non-null     float64\n",
      "dtypes: float64(2), int64(2), object(3)\n",
      "memory usage: 2.7+ KB\n"
     ]
    }
   ],
   "source": [
    "# Getting a general summary information on the dataset\n",
    "data.info()"
   ]
  },
  {
   "attachments": {},
   "cell_type": "markdown",
   "metadata": {},
   "source": [
    "### From the above, it can be seen that the data has 47 entries or rows between 0 - 46 as well as 7 columns between 0 -6.\n",
    "### We need to convert the 'RETURNS' and 'PRODUCTION COST' columns respectively into `int64` objects respectively. "
   ]
  },
  {
   "cell_type": "code",
   "execution_count": null,
   "metadata": {},
   "outputs": [],
   "source": []
  },
  {
   "attachments": {},
   "cell_type": "markdown",
   "metadata": {},
   "source": [
    "### Data Cleaning\n",
    "1. Since the missing rows from the 'PRODUCTION COST' row are just three (3), we can just drop them off or replace with the mean values of the column. It depends on what we are working with but for this particular project, I will replace the missing data with the mean values of the column.\n",
    "2. I will convert the 'RETURNS' and 'PRODUCTION COST' variables from a python object into an 'int64' object."
   ]
  },
  {
   "cell_type": "code",
   "execution_count": 6,
   "metadata": {},
   "outputs": [],
   "source": [
    "# Replacing with mean\n",
    "mean_PC = data['PRODUCTION COST'].mean()\n",
    "data['PRODUCTION COST'].fillna(mean_PC, inplace=True)"
   ]
  },
  {
   "cell_type": "code",
   "execution_count": 7,
   "metadata": {},
   "outputs": [
    {
     "data": {
      "text/plain": [
       "47"
      ]
     },
     "execution_count": 7,
     "metadata": {},
     "output_type": "execute_result"
    }
   ],
   "source": [
    "# Confirm if the items are now 47\n",
    "data['PRODUCTION COST'].count()"
   ]
  },
  {
   "cell_type": "code",
   "execution_count": 8,
   "metadata": {},
   "outputs": [
    {
     "data": {
      "text/plain": [
       "0     52550.0\n",
       "1     10000.0\n",
       "2     86800.0\n",
       "3     56550.0\n",
       "4     30860.0\n",
       "5     54400.0\n",
       "6     54500.0\n",
       "7     31650.0\n",
       "8     67000.0\n",
       "9     35500.0\n",
       "10    40400.0\n",
       "11        NaN\n",
       "12    40000.0\n",
       "13    67225.0\n",
       "14    73100.0\n",
       "15    67930.0\n",
       "16    10000.0\n",
       "17    29100.0\n",
       "18    10000.0\n",
       "19    50000.0\n",
       "20    55650.0\n",
       "21    50700.0\n",
       "22    56000.0\n",
       "23    79000.0\n",
       "24    47470.0\n",
       "25    46450.0\n",
       "26    36950.0\n",
       "27    70000.0\n",
       "28    -5000.0\n",
       "29    59700.0\n",
       "30    70250.0\n",
       "31    62300.0\n",
       "32   -15000.0\n",
       "33    43600.0\n",
       "34    48230.0\n",
       "35    69400.0\n",
       "36    57300.0\n",
       "37    83450.0\n",
       "38    47500.0\n",
       "39    59300.0\n",
       "40     3400.0\n",
       "41    86990.0\n",
       "42    54200.0\n",
       "43     1000.0\n",
       "44    53450.0\n",
       "45    25100.0\n",
       "46    47100.0\n",
       "Name: RETURNS, dtype: float64"
      ]
     },
     "execution_count": 8,
     "metadata": {},
     "output_type": "execute_result"
    }
   ],
   "source": [
    "# Viewing the 'RETURNS' column\n",
    "data['RETURNS']"
   ]
  },
  {
   "cell_type": "code",
   "execution_count": 10,
   "metadata": {},
   "outputs": [
    {
     "data": {
      "text/plain": [
       "0     False\n",
       "1     False\n",
       "2     False\n",
       "3     False\n",
       "4     False\n",
       "5     False\n",
       "6     False\n",
       "7     False\n",
       "8     False\n",
       "9     False\n",
       "10    False\n",
       "11    False\n",
       "12    False\n",
       "13    False\n",
       "14    False\n",
       "15    False\n",
       "16    False\n",
       "17    False\n",
       "18    False\n",
       "19    False\n",
       "20    False\n",
       "21    False\n",
       "22    False\n",
       "23    False\n",
       "24    False\n",
       "25    False\n",
       "26    False\n",
       "27    False\n",
       "28    False\n",
       "29    False\n",
       "30    False\n",
       "31    False\n",
       "32    False\n",
       "33    False\n",
       "34    False\n",
       "35    False\n",
       "36    False\n",
       "37    False\n",
       "38    False\n",
       "39    False\n",
       "40    False\n",
       "41    False\n",
       "42    False\n",
       "43    False\n",
       "44    False\n",
       "45    False\n",
       "46    False\n",
       "Name: RETURNS, dtype: bool"
      ]
     },
     "execution_count": 10,
     "metadata": {},
     "output_type": "execute_result"
    }
   ],
   "source": [
    "data['RETURNS'].isna()"
   ]
  },
  {
   "cell_type": "code",
   "execution_count": 13,
   "metadata": {},
   "outputs": [],
   "source": [
    "data['RETURNS'] = data['RETURNS'].replace('-', '0', inplace=True)"
   ]
  },
  {
   "cell_type": "code",
   "execution_count": 14,
   "metadata": {},
   "outputs": [
    {
     "data": {
      "text/plain": [
       "0     None\n",
       "1     None\n",
       "2     None\n",
       "3     None\n",
       "4     None\n",
       "5     None\n",
       "6     None\n",
       "7     None\n",
       "8     None\n",
       "9     None\n",
       "10    None\n",
       "11    None\n",
       "12    None\n",
       "13    None\n",
       "14    None\n",
       "15    None\n",
       "16    None\n",
       "17    None\n",
       "18    None\n",
       "19    None\n",
       "20    None\n",
       "21    None\n",
       "22    None\n",
       "23    None\n",
       "24    None\n",
       "25    None\n",
       "26    None\n",
       "27    None\n",
       "28    None\n",
       "29    None\n",
       "30    None\n",
       "31    None\n",
       "32    None\n",
       "33    None\n",
       "34    None\n",
       "35    None\n",
       "36    None\n",
       "37    None\n",
       "38    None\n",
       "39    None\n",
       "40    None\n",
       "41    None\n",
       "42    None\n",
       "43    None\n",
       "44    None\n",
       "45    None\n",
       "46    None\n",
       "Name: RETURNS, dtype: object"
      ]
     },
     "execution_count": 14,
     "metadata": {},
     "output_type": "execute_result"
    }
   ],
   "source": [
    "data['RETURNS']"
   ]
  },
  {
   "cell_type": "code",
   "execution_count": null,
   "metadata": {},
   "outputs": [],
   "source": []
  }
 ],
 "metadata": {
  "kernelspec": {
   "display_name": "base",
   "language": "python",
   "name": "python3"
  },
  "language_info": {
   "codemirror_mode": {
    "name": "ipython",
    "version": 3
   },
   "file_extension": ".py",
   "mimetype": "text/x-python",
   "name": "python",
   "nbconvert_exporter": "python",
   "pygments_lexer": "ipython3",
   "version": "3.8.8"
  },
  "orig_nbformat": 4,
  "vscode": {
   "interpreter": {
    "hash": "6ba0883ef75f55eb59f522291f23a06941ace09d33bfcca46f462b483956d544"
   }
  }
 },
 "nbformat": 4,
 "nbformat_minor": 2
}
